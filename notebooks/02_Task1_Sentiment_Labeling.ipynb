{
 "cells": [
  {
   "cell_type": "markdown",
   "id": "a996a310",
   "metadata": {},
   "source": [
    "# 02 Sentiment Analysis\n",
    "\n",
    "This notebook performs sentiment analysis on the email dataset using NLP techniques. We'll classify emails into Positive, Negative, or Neutral sentiments using both rule-based and machine learning approaches."
   ]
  },
  {
   "cell_type": "markdown",
   "id": "5350cd90",
   "metadata": {},
   "source": [
    "## 1. Import Required Libraries"
   ]
  },
  {
   "cell_type": "code",
   "execution_count": null,
   "id": "f2abdc38",
   "metadata": {},
   "outputs": [],
   "source": [
    "import pandas as pd\n",
    "import numpy as np\n",
    "import matplotlib.pyplot as plt\n",
    "import seaborn as sns\n",
    "from textblob import TextBlob\n",
    "from sklearn.model_selection import train_test_split\n",
    "from sklearn.feature_extraction.text import TfidfVectorizer\n",
    "from sklearn.naive_bayes import MultinomialNB\n",
    "from sklearn.linear_model import LogisticRegression\n",
    "from sklearn.metrics import classification_report, confusion_matrix, accuracy_score\n",
    "import warnings\n",
    "warnings.filterwarnings('ignore')\n",
    "\n",
    "# Set style for plots\n",
    "plt.style.use('ggplot')\n",
    "sns.set_palette(\"husl\")"
   ]
  },
  {
   "cell_type": "markdown",
   "id": "0728134a",
   "metadata": {},
   "source": [
    "## 2. Load Processed Data"
   ]
  },
  {
   "cell_type": "code",
   "execution_count": null,
   "id": "30f7a471",
   "metadata": {},
   "outputs": [],
   "source": [
    "df = pd.read_csv('../data/processed/email_data_processed.csv')\n",
    "print(f\"Dataset shape: {df.shape}\")\n",
    "print(f\"Columns: {list(df.columns)}\")\n",
    "df.head()"
   ]
  },
  {
   "cell_type": "markdown",
   "id": "bddd4f29",
   "metadata": {},
   "source": [
    "## 3. Rule-Based Sentiment Analysis (TextBlob)"
   ]
  },
  {
   "cell_type": "code",
   "execution_count": null,
   "id": "295e3c77",
   "metadata": {},
   "outputs": [],
   "source": [
    "def get_sentiment_textblob(text):\n",
    "    \"\"\"Get sentiment using TextBlob\"\"\"\n",
    "    blob = TextBlob(str(text))\n",
    "    polarity = blob.sentiment.polarity\n",
    "    \n",
    "    if polarity > 0.1:\n",
    "        return 'Positive'\n",
    "    elif polarity < -0.1:\n",
    "        return 'Negative'\n",
    "    else:\n",
    "        return 'Neutral'\n",
    "\n",
    "def get_polarity_score(text):\n",
    "    \"\"\"Get polarity score\"\"\"\n",
    "    blob = TextBlob(str(text))\n",
    "    return blob.sentiment.polarity\n",
    "\n",
    "# Apply sentiment analysis\n",
    "df['sentiment_textblob'] = df['combined_text'].apply(get_sentiment_textblob)\n",
    "df['polarity_score'] = df['combined_text'].apply(get_polarity_score)\n",
    "\n",
    "# Display sentiment distribution\n",
    "sentiment_counts = df['sentiment_textblob'].value_counts()\n",
    "print(\"Sentiment Distribution (TextBlob):\")\n",
    "print(sentiment_counts)\n",
    "print(f\"\\nPercentages:\")\n",
    "print(sentiment_counts / len(df) * 100)"
   ]
  },
  {
   "cell_type": "markdown",
   "id": "1822561b",
   "metadata": {},
   "source": [
    "## 4. Sentiment Analysis Visualizations"
   ]
  },
  {
   "cell_type": "code",
   "execution_count": null,
   "id": "fc70be88",
   "metadata": {},
   "outputs": [],
   "source": [
    "fig, axes = plt.subplots(2, 2, figsize=(15, 10))\n",
    "\n",
    "# Sentiment distribution pie chart\n",
    "sentiment_counts.plot(kind='pie', ax=axes[0,0], autopct='%1.1f%%', startangle=90)\n",
    "axes[0,0].set_title('Sentiment Distribution')\n",
    "axes[0,0].set_ylabel('')\n",
    "\n",
    "# Sentiment distribution bar chart\n",
    "sentiment_counts.plot(kind='bar', ax=axes[0,1], color=['green', 'red', 'gray'])\n",
    "axes[0,1].set_title('Sentiment Counts')\n",
    "axes[0,1].set_xlabel('Sentiment')\n",
    "axes[0,1].set_ylabel('Count')\n",
    "axes[0,1].tick_params(axis='x', rotation=45)\n",
    "\n",
    "# Polarity score distribution\n",
    "axes[1,0].hist(df['polarity_score'], bins=50, color='skyblue', alpha=0.7)\n",
    "axes[1,0].set_title('Polarity Score Distribution')\n",
    "axes[1,0].set_xlabel('Polarity Score')\n",
    "axes[1,0].set_ylabel('Frequency')\n",
    "\n",
    "# Sentiment by email domain (top 10)\n",
    "if 'email_domain' in df.columns:\n",
    "    top_domains = df['email_domain'].value_counts().head(10).index\n",
    "    domain_sentiment = df[df['email_domain'].isin(top_domains)].groupby(['email_domain', 'sentiment_textblob']).size().unstack(fill_value=0)\n",
    "    domain_sentiment.plot(kind='bar', stacked=True, ax=axes[1,1])\n",
    "    axes[1,1].set_title('Sentiment by Email Domain (Top 10)')\n",
    "    axes[1,1].set_xlabel('Email Domain')\n",
    "    axes[1,1].set_ylabel('Count')\n",
    "    axes[1,1].tick_params(axis='x', rotation=45)\n",
    "\n",
    "plt.tight_layout()\n",
    "plt.show()"
   ]
  },
  {
   "cell_type": "markdown",
   "id": "4228ba81",
   "metadata": {},
   "source": [
    "## 5. Machine Learning-Based Sentiment Analysis"
   ]
  },
  {
   "cell_type": "code",
   "execution_count": null,
   "id": "8d5fa11e",
   "metadata": {},
   "outputs": [],
   "source": [
    "# Use TextBlob sentiment as labels for training (in real scenario, you'd have manually labeled data)\n",
    "# For demonstration, we'll use a subset of data with clear sentiments\n",
    "clear_sentiment_mask = df['polarity_score'].abs() > 0.1\n",
    "df_train = df[clear_sentiment_mask].copy()\n",
    "\n",
    "print(f\"Training data shape: {df_train.shape}\")\n",
    "print(f\"Training sentiment distribution:\\n{df_train['sentiment_textblob'].value_counts()}\")\n",
    "\n",
    "# Prepare data for ML models\n",
    "X = df_train['combined_text']\n",
    "y = df_train['sentiment_textblob']\n",
    "\n",
    "# Split the data\n",
    "X_train, X_test, y_train, y_test = train_test_split(X, y, test_size=0.2, random_state=42, stratify=y)\n",
    "\n",
    "# TF-IDF Vectorization\n",
    "tfidf = TfidfVectorizer(max_features=5000, stop_words='english', ngram_range=(1, 2))\n",
    "X_train_tfidf = tfidf.fit_transform(X_train)\n",
    "X_test_tfidf = tfidf.transform(X_test)\n",
    "\n",
    "print(f\"TF-IDF feature matrix shape: {X_train_tfidf.shape}\")"
   ]
  },
  {
   "cell_type": "code",
   "execution_count": null,
   "id": "75aee8d4",
   "metadata": {},
   "outputs": [],
   "source": [
    "# Train Naive Bayes classifier\n",
    "nb_model = MultinomialNB()\n",
    "nb_model.fit(X_train_tfidf, y_train)\n",
    "nb_pred = nb_model.predict(X_test_tfidf)\n",
    "\n",
    "# Train Logistic Regression\n",
    "lr_model = LogisticRegression(random_state=42, max_iter=1000)\n",
    "lr_model.fit(X_train_tfidf, y_train)\n",
    "lr_pred = lr_model.predict(X_test_tfidf)\n",
    "\n",
    "# Evaluate models\n",
    "print(\"Naive Bayes Results:\")\n",
    "print(f\"Accuracy: {accuracy_score(y_test, nb_pred):.3f}\")\n",
    "print(\"\\nClassification Report:\")\n",
    "print(classification_report(y_test, nb_pred))\n",
    "\n",
    "print(\"\\n\" + \"=\"*50)\n",
    "print(\"Logistic Regression Results:\")\n",
    "print(f\"Accuracy: {accuracy_score(y_test, lr_pred):.3f}\")\n",
    "print(\"\\nClassification Report:\")\n",
    "print(classification_report(y_test, lr_pred))"
   ]
  },
  {
   "cell_type": "markdown",
   "id": "36c5a1c3",
   "metadata": {},
   "source": [
    "## 6. Apply Best Model to Full Dataset and Save Results"
   ]
  },
  {
   "cell_type": "code",
   "execution_count": null,
   "id": "6bf110e0",
   "metadata": {},
   "outputs": [],
   "source": [
    "# Apply the logistic regression model to the full dataset\n",
    "X_full_tfidf = tfidf.transform(df['combined_text'])\n",
    "df['sentiment_ml'] = lr_model.predict(X_full_tfidf)\n",
    "df['sentiment_ml_proba'] = lr_model.predict_proba(X_full_tfidf).max(axis=1)\n",
    "\n",
    "# Compare TextBlob vs ML results\n",
    "comparison = pd.crosstab(df['sentiment_textblob'], df['sentiment_ml'], margins=True)\n",
    "print(\"Sentiment Comparison (TextBlob vs ML):\")\n",
    "print(comparison)\n",
    "\n",
    "# Save the dataset with sentiment analysis results\n",
    "df.to_csv('../data/processed/email_data_with_sentiment.csv', index=False)\n",
    "print(\"\\nDataset with sentiment analysis saved to '../data/processed/email_data_with_sentiment.csv'\")\n",
    "\n",
    "# Display sample results\n",
    "print(\"\\nSample Results:\")\n",
    "sample_cols = ['Subject', 'sentiment_textblob', 'sentiment_ml', 'polarity_score', 'sentiment_ml_proba']\n",
    "print(df[sample_cols].head(10))"
   ]
  }
 ],
 "metadata": {
  "language_info": {
   "name": "python"
  }
 },
 "nbformat": 4,
 "nbformat_minor": 5
}
