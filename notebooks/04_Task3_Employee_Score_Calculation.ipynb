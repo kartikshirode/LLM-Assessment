{
 "cells": [
  {
   "cell_type": "markdown",
   "id": "e1e08767",
   "metadata": {},
   "source": [
    "# Task 3: Employee Score Calculation\n",
    "\n",
    "This notebook implements **Task 3** of the Employee Sentiment Analysis project. The objective is to compute a monthly sentiment score for each employee based on their messages.\n",
    "\n",
    "## Scoring System:\n",
    "- **Positive Message**: +1 point\n",
    "- **Negative Message**: -1 point  \n",
    "- **Neutral Message**: 0 points (no effect)\n",
    "\n",
    "## Key Requirements:\n",
    "- Aggregate scores on a monthly basis for each employee\n",
    "- Scores reset at the beginning of each new month\n",
    "- Clear documentation of grouping and calculation methods"
   ]
  },
  {
   "cell_type": "markdown",
   "id": "2ac338b1",
   "metadata": {},
   "source": [
    "## 1. Import Required Libraries"
   ]
  },
  {
   "cell_type": "code",
   "execution_count": null,
   "id": "ae30cac9",
   "metadata": {},
   "outputs": [],
   "source": [
    "import pandas as pd\n",
    "import numpy as np\n",
    "import matplotlib.pyplot as plt\n",
    "import seaborn as sns\n",
    "from datetime import datetime\n",
    "import warnings\n",
    "warnings.filterwarnings('ignore')\n",
    "\n",
    "# Set plotting style\n",
    "plt.style.use('ggplot')\n",
    "sns.set_palette(\"husl\")\n",
    "plt.rcParams['figure.figsize'] = (12, 8)"
   ]
  },
  {
   "cell_type": "markdown",
   "id": "af695c09",
   "metadata": {},
   "source": [
    "## 2. Load Data and Implement Scoring System"
   ]
  },
  {
   "cell_type": "code",
   "execution_count": null,
   "id": "9edd537c",
   "metadata": {},
   "outputs": [],
   "source": [
    "# Load data with sentiment labels\n",
    "df = pd.read_csv('../data/processed/email_data_with_sentiment.csv')\n",
    "\n",
    "# Convert date column to datetime\n",
    "df['date'] = pd.to_datetime(df['date'])\n",
    "\n",
    "print(f\"Dataset loaded: {df.shape}\")\n",
    "print(f\"Date range: {df['date'].min()} to {df['date'].max()}\")\n",
    "print(f\"Unique employees: {df['from'].nunique()}\")\n",
    "\n",
    "# Implement scoring system\n",
    "def get_sentiment_score(sentiment):\n",
    "    \"\"\"Convert sentiment to numerical score\"\"\"\n",
    "    if sentiment == 'Positive':\n",
    "        return 1\n",
    "    elif sentiment == 'Negative':\n",
    "        return -1\n",
    "    else:  # Neutral\n",
    "        return 0\n",
    "\n",
    "# Apply scoring system\n",
    "df['sentiment_score'] = df['sentiment_final'].apply(get_sentiment_score)\n",
    "\n",
    "# Create year-month column for grouping\n",
    "df['year_month'] = df['date'].dt.to_period('M')\n",
    "\n",
    "print(f\"\\nScoring system applied:\")\n",
    "print(f\"- Positive messages: +1 point\")\n",
    "print(f\"- Negative messages: -1 point\") \n",
    "print(f\"- Neutral messages: 0 points\")\n",
    "\n",
    "print(f\"\\nSample scoring:\")\n",
    "print(df[['from', 'date', 'sentiment_final', 'sentiment_score']].head(10))"
   ]
  },
  {
   "cell_type": "markdown",
   "id": "2ae8c1c3",
   "metadata": {},
   "source": [
    "## 3. Calculate Monthly Sentiment Scores\n",
    "\n",
    "Calculate cumulative monthly scores for each employee, with scores resetting each month."
   ]
  },
  {
   "cell_type": "code",
   "execution_count": null,
   "id": "03727f0f",
   "metadata": {},
   "outputs": [],
   "source": [
    "# Calculate monthly scores for each employee\n",
    "monthly_scores = df.groupby(['from', 'year_month']).agg({\n",
    "    'sentiment_score': 'sum',\n",
    "    'sentiment_final': 'count',\n",
    "    'date': 'min'  # First message date in that month\n",
    "}).rename(columns={\n",
    "    'sentiment_score': 'monthly_score',\n",
    "    'sentiment_final': 'message_count',\n",
    "    'date': 'first_message_date'\n",
    "})\n",
    "\n",
    "# Reset index to make it easier to work with\n",
    "monthly_scores = monthly_scores.reset_index()\n",
    "\n",
    "# Add additional metrics\n",
    "sentiment_breakdown = df.groupby(['from', 'year_month', 'sentiment_final']).size().unstack(fill_value=0)\n",
    "sentiment_breakdown.columns = [f'{col.lower()}_count' for col in sentiment_breakdown.columns]\n",
    "sentiment_breakdown = sentiment_breakdown.reset_index()\n",
    "\n",
    "# Merge with monthly scores\n",
    "monthly_scores = monthly_scores.merge(sentiment_breakdown, on=['from', 'year_month'], how='left')\n",
    "\n",
    "# Fill NaN values with 0 for sentiment counts\n",
    "sentiment_cols = ['positive_count', 'negative_count', 'neutral_count']\n",
    "for col in sentiment_cols:\n",
    "    if col in monthly_scores.columns:\n",
    "        monthly_scores[col] = monthly_scores[col].fillna(0)\n",
    "\n",
    "print(f\"Monthly scores calculated for {monthly_scores.shape[0]} employee-month combinations\")\n",
    "print(f\"Date range: {monthly_scores['year_month'].min()} to {monthly_scores['year_month'].max()}\")\n",
    "\n",
    "# Display sample results\n",
    "print(f\"\\nSample Monthly Scores:\")\n",
    "print(monthly_scores.head(10))\n",
    "\n",
    "# Summary statistics\n",
    "print(f\"\\nMonthly Score Statistics:\")\n",
    "print(monthly_scores['monthly_score'].describe())\n",
    "\n",
    "print(f\"\\nEmployees with highest average monthly scores:\")\n",
    "avg_scores = monthly_scores.groupby('from')['monthly_score'].mean().sort_values(ascending=False)\n",
    "print(avg_scores.head(10))"
   ]
  },
  {
   "cell_type": "markdown",
   "id": "2afd8753",
   "metadata": {},
   "source": [
    "## 4. Save Monthly Scores\n",
    "\n",
    "Save the calculated monthly scores for use in subsequent tasks."
   ]
  },
  {
   "cell_type": "code",
   "execution_count": null,
   "id": "f088c53d",
   "metadata": {},
   "outputs": [],
   "source": [
    "# Save monthly scores\n",
    "monthly_scores.to_csv('../data/processed/monthly_scores.csv', index=False)\n",
    "\n",
    "print(\"=\"*60)\n",
    "print(\"TASK 3: EMPLOYEE SCORE CALCULATION - SUMMARY REPORT\")\n",
    "print(\"=\"*60)\n",
    "\n",
    "print(f\"\\nScoring System Summary:\")\n",
    "print(f\"- Positive messages: +1 point\")\n",
    "print(f\"- Negative messages: -1 point\") \n",
    "print(f\"- Neutral messages: 0 points\")\n",
    "\n",
    "print(f\"\\nDataset Overview:\")\n",
    "print(f\"- Total employee-month combinations: {len(monthly_scores):,}\")\n",
    "print(f\"- Unique employees: {monthly_scores['from'].nunique():,}\")\n",
    "print(f\"- Months covered: {monthly_scores['year_month'].nunique()}\")\n",
    "print(f\"- Date range: {monthly_scores['year_month'].min()} to {monthly_scores['year_month'].max()}\")\n",
    "\n",
    "print(f\"\\nScore Statistics:\")\n",
    "print(f\"- Highest monthly score: {monthly_scores['monthly_score'].max()}\")\n",
    "print(f\"- Lowest monthly score: {monthly_scores['monthly_score'].min()}\")\n",
    "print(f\"- Average monthly score: {monthly_scores['monthly_score'].mean():.2f}\")\n",
    "\n",
    "print(f\"\\nOutput Files:\")\n",
    "print(f\"- Monthly scores: ../data/processed/monthly_scores.csv\")\n",
    "\n",
    "print(f\"\\n\" + \"=\"*60)\n",
    "print(\"Task 3 completed successfully!\")\n",
    "print(\"Next: Run Task 4 (Employee Ranking)\")\n",
    "print(\"=\"*60)"
   ]
  }
 ],
 "metadata": {
  "language_info": {
   "name": "python"
  }
 },
 "nbformat": 4,
 "nbformat_minor": 5
}
