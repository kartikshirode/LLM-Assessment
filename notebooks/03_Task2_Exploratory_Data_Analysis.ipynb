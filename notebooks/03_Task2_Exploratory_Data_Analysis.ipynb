{
 "cells": [
  {
   "cell_type": "markdown",
   "id": "b62287e2",
   "metadata": {},
   "source": [
    "# Task 2: Exploratory Data Analysis (EDA)\n",
    "\n",
    "This notebook implements **Task 2** of the Employee Sentiment Analysis project. The objective is to understand the structure, distribution, and trends in the dataset through thorough exploration.\n",
    "\n",
    "## Key Areas of Analysis:\n",
    "1. **Data Structure**: Examine records, data types, missing values\n",
    "2. **Sentiment Distribution**: Analyze sentiment labels across the dataset  \n",
    "3. **Time Trends**: Investigate patterns over time\n",
    "4. **Employee Patterns**: Explore employee-specific trends and anomalies\n",
    "5. **Message Characteristics**: Analyze message length, frequency, and content patterns"
   ]
  },
  {
   "cell_type": "markdown",
   "id": "1a07529e",
   "metadata": {},
   "source": [
    "## 1. Import Required Libraries"
   ]
  },
  {
   "cell_type": "code",
   "execution_count": null,
   "id": "492229ca",
   "metadata": {},
   "outputs": [],
   "source": [
    "import pandas as pd\n",
    "import numpy as np\n",
    "import matplotlib.pyplot as plt\n",
    "import seaborn as sns\n",
    "import plotly.express as px\n",
    "import plotly.graph_objects as go\n",
    "from datetime import datetime, timedelta\n",
    "import warnings\n",
    "warnings.filterwarnings('ignore')\n",
    "\n",
    "# Set plotting style\n",
    "plt.style.use('ggplot')\n",
    "sns.set_palette(\"husl\")\n",
    "plt.rcParams['figure.figsize'] = (12, 8)"
   ]
  },
  {
   "cell_type": "markdown",
   "id": "47645246",
   "metadata": {},
   "source": [
    "## 2. Load Data with Sentiment Labels\n",
    "\n",
    "We'll load the dataset with sentiment labels from Task 1 to perform comprehensive exploratory analysis."
   ]
  },
  {
   "cell_type": "code",
   "execution_count": null,
   "id": "cfc8f721",
   "metadata": {},
   "outputs": [],
   "source": [
    "# Load data with sentiment labels (from Task 1)\n",
    "df = pd.read_csv('../data/processed/email_data_with_sentiment.csv')\n",
    "\n",
    "print(f\"Dataset shape: {df.shape}\")\n",
    "print(f\"Columns: {list(df.columns)}\")\n",
    "\n",
    "# Display basic information\n",
    "print(\"\\n=== DATASET OVERVIEW ===\")\n",
    "print(f\"Total number of messages: {len(df):,}\")\n",
    "print(f\"Number of unique employees: {df['from'].nunique():,}\")\n",
    "print(f\"Date range: {df['date'].min()} to {df['date'].max()}\")\n",
    "print(f\"Missing values per column:\")\n",
    "print(df.isnull().sum())\n",
    "\n",
    "df.head()"
   ]
  },
  {
   "cell_type": "markdown",
   "id": "d64c821f",
   "metadata": {},
   "source": [
    "## 3. Data Structure Analysis\n",
    "\n",
    "Let's examine the overall structure and characteristics of our dataset."
   ]
  },
  {
   "cell_type": "code",
   "execution_count": null,
   "id": "1f8a2888",
   "metadata": {},
   "outputs": [],
   "source": [
    "# Data structure analysis\n",
    "print(\"=== DATA STRUCTURE ANALYSIS ===\")\n",
    "\n",
    "# Check data types\n",
    "print(\"\\nData Types:\")\n",
    "print(df.dtypes)\n",
    "\n",
    "# Statistical summary\n",
    "print(\"\\nStatistical Summary:\")\n",
    "print(df.describe(include='all'))\n",
    "\n",
    "# Missing values analysis\n",
    "print(\"\\nMissing Values Analysis:\")\n",
    "missing_data = df.isnull().sum()\n",
    "missing_percentage = (missing_data / len(df)) * 100\n",
    "missing_df = pd.DataFrame({\n",
    "    'Missing Count': missing_data,\n",
    "    'Missing Percentage': missing_percentage\n",
    "})\n",
    "print(missing_df[missing_df['Missing Count'] > 0])\n",
    "\n",
    "# Unique values in key columns\n",
    "print(\"\\nUnique Values in Key Columns:\")\n",
    "key_columns = ['from', 'email_domain', 'sentiment_final', 'year', 'month']\n",
    "for col in key_columns:\n",
    "    if col in df.columns:\n",
    "        print(f\"- {col}: {df[col].nunique():,} unique values\")\n",
    "\n",
    "# Memory usage\n",
    "print(f\"\\nDataset Memory Usage: {df.memory_usage(deep=True).sum() / 1024**2:.2f} MB\")"
   ]
  },
  {
   "cell_type": "markdown",
   "id": "16ab8a41",
   "metadata": {},
   "source": [
    "## 4. Sentiment Distribution Analysis\n",
    "\n",
    "Analyze the distribution of sentiment labels across different dimensions."
   ]
  },
  {
   "cell_type": "code",
   "execution_count": null,
   "id": "3a4e105f",
   "metadata": {},
   "outputs": [],
   "source": [
    "# Sentiment distribution analysis\n",
    "fig, axes = plt.subplots(2, 2, figsize=(16, 12))\n",
    "\n",
    "# Overall sentiment distribution\n",
    "sentiment_counts = df['sentiment_final'].value_counts()\n",
    "colors = ['green', 'gray', 'red']\n",
    "sentiment_counts.plot(kind='pie', ax=axes[0,0], autopct='%1.1f%%', colors=colors, startangle=90)\n",
    "axes[0,0].set_title('Overall Sentiment Distribution')\n",
    "axes[0,0].set_ylabel('')\n",
    "\n",
    "# Sentiment by year\n",
    "yearly_sentiment = pd.crosstab(df['year'], df['sentiment_final'], normalize='index') * 100\n",
    "yearly_sentiment.plot(kind='bar', ax=axes[0,1], color=colors)\n",
    "axes[0,1].set_title('Sentiment Distribution by Year (%)')\n",
    "axes[0,1].set_xlabel('Year')\n",
    "axes[0,1].set_ylabel('Percentage')\n",
    "axes[0,1].tick_params(axis='x', rotation=45)\n",
    "axes[0,1].legend(title='Sentiment')\n",
    "\n",
    "# Sentiment by month (all years combined)\n",
    "monthly_sentiment = pd.crosstab(df['month'], df['sentiment_final'], normalize='index') * 100\n",
    "monthly_sentiment.plot(kind='bar', ax=axes[1,0], color=colors)\n",
    "axes[1,0].set_title('Sentiment Distribution by Month (%)')\n",
    "axes[1,0].set_xlabel('Month')\n",
    "axes[1,0].set_ylabel('Percentage')\n",
    "axes[1,0].set_xticks(range(12))\n",
    "axes[1,0].set_xticklabels(['Jan', 'Feb', 'Mar', 'Apr', 'May', 'Jun',\n",
    "                          'Jul', 'Aug', 'Sep', 'Oct', 'Nov', 'Dec'])\n",
    "axes[1,0].tick_params(axis='x', rotation=45)\n",
    "axes[1,0].legend(title='Sentiment')\n",
    "\n",
    "# Top 10 employees by message count with sentiment breakdown\n",
    "top_employees = df['from'].value_counts().head(10).index\n",
    "top_emp_sentiment = df[df['from'].isin(top_employees)].groupby(['from', 'sentiment_final']).size().unstack(fill_value=0)\n",
    "top_emp_sentiment.plot(kind='bar', stacked=True, ax=axes[1,1], color=colors)\n",
    "axes[1,1].set_title('Sentiment Distribution - Top 10 Most Active Employees')\n",
    "axes[1,1].set_xlabel('Employee Email')\n",
    "axes[1,1].set_ylabel('Number of Messages')\n",
    "axes[1,1].tick_params(axis='x', rotation=45)\n",
    "axes[1,1].legend(title='Sentiment')\n",
    "\n",
    "plt.tight_layout()\n",
    "plt.savefig('../visualizations/sentiment_distribution_analysis.png', dpi=300, bbox_inches='tight')\n",
    "plt.show()\n",
    "\n",
    "# Print detailed statistics\n",
    "print(\"=== SENTIMENT DISTRIBUTION STATISTICS ===\")\n",
    "print(f\"\\nOverall Distribution:\")\n",
    "for sentiment, count in sentiment_counts.items():\n",
    "    percentage = (count / len(df)) * 100\n",
    "    print(f\"- {sentiment}: {count:,} messages ({percentage:.1f}%)\")\n",
    "\n",
    "print(f\"\\nTop 5 Most Active Employees:\")\n",
    "top_5_employees = df['from'].value_counts().head(5)\n",
    "for email, count in top_5_employees.items():\n",
    "    employee_sentiment = df[df['from'] == email]['sentiment_final'].value_counts()\n",
    "    sentiment_summary = \", \".join([f\"{sent}: {cnt}\" for sent, cnt in employee_sentiment.items()])\n",
    "    print(f\"- {email}: {count} messages ({sentiment_summary})\")"
   ]
  }
 ],
 "metadata": {
  "language_info": {
   "name": "python"
  }
 },
 "nbformat": 4,
 "nbformat_minor": 5
}
