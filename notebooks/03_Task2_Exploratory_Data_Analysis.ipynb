{
 "cells": [
  {
   "cell_type": "markdown",
   "id": "b62287e2",
   "metadata": {},
   "source": [
    "# Task 2: Exploratory Data Analysis (EDA)\n",
    "\n",
    "This notebook implements **Task 2** of the Employee Sentiment Analysis project. The objective is to understand the structure, distribution, and trends in the dataset through thorough exploration.\n",
    "\n",
    "## Key Areas of Analysis:\n",
    "1. **Data Structure**: Examine records, data types, missing values\n",
    "2. **Sentiment Distribution**: Analyze sentiment labels across the dataset  \n",
    "3. **Time Trends**: Investigate patterns over time\n",
    "4. **Employee Patterns**: Explore employee-specific trends and anomalies\n",
    "5. **Message Characteristics**: Analyze message length, frequency, and content patterns"
   ]
  },
  {
   "cell_type": "markdown",
   "id": "1a07529e",
   "metadata": {},
   "source": [
    "## 1. Import Required Libraries"
   ]
  },
  {
   "cell_type": "code",
   "execution_count": null,
   "id": "492229ca",
   "metadata": {},
   "outputs": [],
   "source": [
    "import pandas as pd\n",
    "import numpy as np\n",
    "import matplotlib.pyplot as plt\n",
    "import seaborn as sns\n",
    "import plotly.express as px\n",
    "import plotly.graph_objects as go\n",
    "from datetime import datetime, timedelta\n",
    "import warnings\n",
    "warnings.filterwarnings('ignore')\n",
    "\n",
    "# Set plotting style\n",
    "plt.style.use('ggplot')\n",
    "sns.set_palette(\"husl\")\n",
    "plt.rcParams['figure.figsize'] = (12, 8)"
   ]
  },
  {
   "cell_type": "markdown",
   "id": "47645246",
   "metadata": {},
   "source": [
    "## 2. Load Data with Sentiment Labels\n",
    "\n",
    "We'll load the dataset with sentiment labels from Task 1 to perform comprehensive exploratory analysis."
   ]
  },
  {
   "cell_type": "code",
   "execution_count": null,
   "id": "cfc8f721",
   "metadata": {},
   "outputs": [],
   "source": [
    "# Load data with sentiment labels (from Task 1)\n",
    "df = pd.read_csv('../data/processed/email_data_with_sentiment.csv')\n",
    "\n",
    "print(f\"Dataset shape: {df.shape}\")\n",
    "print(f\"Columns: {list(df.columns)}\")\n",
    "\n",
    "# Display basic information\n",
    "print(\"\\n=== DATASET OVERVIEW ===\")\n",
    "print(f\"Total number of messages: {len(df):,}\")\n",
    "print(f\"Number of unique employees: {df['from'].nunique():,}\")\n",
    "print(f\"Date range: {df['date'].min()} to {df['date'].max()}\")\n",
    "print(f\"Missing values per column:\")\n",
    "print(df.isnull().sum())\n",
    "\n",
    "df.head()"
   ]
  }
 ],
 "metadata": {
  "language_info": {
   "name": "python"
  }
 },
 "nbformat": 4,
 "nbformat_minor": 5
}
